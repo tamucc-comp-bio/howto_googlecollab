{
 "cells": [
    {
    "cell_type": "markdown",
    "metadata": {
      "id": "view-in-github",
      "colab_type": "text"
    },
    "source": [
      "<a href=\"https://colab.research.google.com/github/tamucc-comp-bio/howto_googlecollab/edit/main/lecture10.ipynb\" target=\"_parent\"><img src=\"https://colab.research.google.com/assets/colab-badge.svg\" alt=\"Open In Colab\"/></a>"
    ]
  },
  {
   "cell_type": "markdown",
   "metadata": {},
   "source": [
    "# Week10 Python Boot Camp I: Basic Programming\n",
    "\n",
    "> [!IMPORTANT]\n",
    "> Exam 2 is due by beginning of class \n",
    "\n",
    "> [!NOTE]\n",
    "> [Lecture Stream](https://tamucc.zoom.us/rec/share/9HqT1yYNfNXGKuGKoxuMfQCtuM67SLW2vBFYOh2JrSUPVCSn-Po1Ue373aLz0yg5.YFhGdS_bnpUnME1Q)\n",
    "> Passcode: vM&5B^wn\n",
    "___"
   ]
  },
  {
   "cell_type": "markdown",
   "metadata": {},
   "source": [
    "## Computer Preparation\n",
    "\n",
    "<details><summary>Windows, Mac, Linux</summary>\n",
    "<p>\n",
    "\n",
    "- [ ] Step 0. Open Terminal\n",
    "\n",
    "  > Search for the terminal app and open it.  For Windows, make sure you are using Ubuntu.\n",
    "\n",
    "  > You should have already prepared your computer during Lecture 0.  If you did not then:  \n",
    "\n",
    "  > * Complete the tasks listed in the [How to Set Up Your Computer for Computational Biology](https://github.com/tamucc-comp-bio/how_to/blob/main/howto_setup_computer.md), up to, but not including R and RStudio.\n",
    "  >    * If you are having difficulty installing ubuntu, use Launch if your account is activated.\n",
    "\n",
    "- [ ] Step 1. Update Your apps\n",
    "\n",
    "  > It's always a good idea to keep your apps in your terminal up to date. \n",
    "  \n",
    "  > For Ubuntu (Linux), enter the following commands to load the newest versions of your apps"
   ]
  },
  {
   "cell_type": "code",
   "execution_count": null,
   "metadata": {},
   "outputs": [],
   "source": [
    "%%bash\n",
    "sudo apt update\n",
    "sudo apt upgrade"
   ]
  },
  {
   "cell_type": "markdown",
   "metadata": {},
   "source": [
    "  > For Mac (Homebrew), enter the following commands to load the newest versions of your apps"
   ]
  },
  {
   "cell_type": "code",
   "execution_count": null,
   "metadata": {},
   "outputs": [],
   "source": [
    "%%bash\n",
    "brew update\n",
    "brew upgrade"
   ]
  },
  {
   "cell_type": "markdown",
   "metadata": {},
   "source": [
    "- [ ] Step 2. Confirm you have cloned the CSB (Computing Skills For Biologists) Repo into your home dir\n",
    "\n",
    "    > In your terminal, enter the following commands:"
   ]
  },
  {
   "cell_type": "code",
   "execution_count": null,
   "metadata": {},
   "outputs": [],
   "source": [
    "%%bash\n",
    "# make sure you're in your home dir\n",
    "cd ~\n",
    "\n",
    "# list the directories and files in the CSB dir to confirm it's in your home dir\n",
    "ls CSB"
   ]
  },
  {
   "cell_type": "markdown",
   "metadata": {},
   "source": [
    "    > You should see the following output because we cloned the CSB Repo to your home dir in [Lecture 0](https://github.com/tamucc-comp-bio/classroom_repo_2024/blob/master/lectures/lecture00.md).  "
   ]
  },
  {
   "cell_type": "code",
   "execution_count": null,
   "metadata": {},
   "outputs": [],
   "source": [
    "%%bash\n",
    "LICENSE  README.md  data_wrangling  git  good_code  latex  python  r  regex  scientific  sql  unix"
   ]
  },
  {
   "cell_type": "markdown",
   "metadata": {},
   "source": [
    "    > If you see the output above, you're done! Goto the next section.\n",
    "\n",
    "- [ ] Step 3. If you didn't have the CSB Repo, clone it now\n",
    "\n",
    "  > If you **do not** see the output above, then clone the CSB repo by entering the following commands:"
   ]
  },
  {
   "cell_type": "code",
   "execution_count": null,
   "metadata": {},
   "outputs": [],
   "source": [
    "%%bash\ngit clone https://github.com/CSB-book/CSB.git"
   ]
  },
  {
   "cell_type": "markdown",
   "metadata": {},
   "source": [
    "  > You should see the following output:"
   ]
  },
  {
   "cell_type": "code",
   "execution_count": null,
   "metadata": {},
   "outputs": [],
   "source": [
    "%%bash\n",
    "Cloning into 'CSB'...\n",
    "remote: Enumerating objects: 1005, done.\n",
    "remote: Total 1005 (delta 0), reused 0 (delta 0), pack-reused 1005 (from 1)\n",
    "Receiving objects: 100% (1005/1005), 26.68 MiB | 7.74 MiB/s, done.\n",
    "Resolving deltas: 100% (389/389), done."
   ]
  },
  {
   "cell_type": "markdown",
   "metadata": {},
   "source": [
    "  > Goto Step 2 above.\n",
    "\n",
    "<hr style=\"height: 0.1px; border: none; background-color: black;\">\n",
    "\n",
    "</p>\n",
    "</details>"
   ]
  },
  {
   "cell_type": "markdown",
   "metadata": {},
   "source": [
    "<details><summary>ChromeOS, iOS, Android</summary>\n",
    "<p>\n",
    "\n",
    " - [ ] Step 0. [Log Into Launch HPC](https://portal-launch.hprc.tamu.edu/)\n",
    "\n",
    "    > Use the following [link](https://portal-launch.hprc.tamu.edu/) to log in \n",
    "\n",
    "    > You should have already created your account during Lecture 0.  If you did not then:  \n",
    "    > * Complete the tasks listed in the [Accessing Launch Instructions](https://hprc.tamu.edu/kb/User-Guides/Launch/Access/#no-ssh-login)\n",
    "\n",
    " - [ ] Step 1. Open Terminal\n",
    "\n",
    "    > Select `launch Shell Access`\n",
    "\n",
    " - [ ] Step 2. Confirm you have cloned the CSB (Computing Skills For Biologists) Repo into your home dir\n",
    "\n",
    "  > In your terminal, enter the following commands:"
   ]
  },
  {
   "cell_type": "code",
   "execution_count": null,
   "metadata": {},
   "outputs": [],
   "source": [
    "%%bash\n",
    "# make sure you're in your home dir\n",
    "cd ~\n",
    "\n",
    "# list the directories and files in the CSB dir to confirm it's in your home dir\n",
    "ls CSB"
   ]
  },
  {
   "cell_type": "markdown",
   "metadata": {},
   "source": [
    "  > You should see the following output because we cloned the CSB Repo to your home dir in [Lecture 0](https://github.com/tamucc-comp-bio/classroom_repo_2024/blob/master/lectures/lecture00.md).  "
   ]
  },
  {
   "cell_type": "code",
   "execution_count": null,
   "metadata": {},
   "outputs": [],
   "source": [
    "%%bash\n",
    "LICENSE  README.md  data_wrangling  git  good_code  latex  python  r  regex  scientific  sql  unix"
   ]
  },
  {
   "cell_type": "markdown",
   "metadata": {},
   "source": [
    "  > If you see the output above, you're done! Goto the next section.\n",
    "\n",
    "- [ ] Step 3. If you didn't have the CSB Repo, clone it now\n",
    "\n",
    "  > If you **do not** see the output above, then clone the CSB repo by entering the following commands:"
   ]
  },
  {
   "cell_type": "code",
   "execution_count": null,
   "metadata": {},
   "outputs": [],
   "source": [
    "%%bash\ngit clone https://github.com/CSB-book/CSB.git"
   ]
  },
  {
   "cell_type": "markdown",
   "metadata": {},
   "source": [
    "  > You should see the following output:"
   ]
  },
  {
   "cell_type": "code",
   "execution_count": null,
   "metadata": {},
   "outputs": [],
   "source": [
    "%%bash\n",
    "Cloning into 'CSB'...\n",
    "remote: Enumerating objects: 1005, done.\n",
    "remote: Total 1005 (delta 0), reused 0 (delta 0), pack-reused 1005 (from 1)\n",
    "Receiving objects: 100% (1005/1005), 26.68 MiB | 7.74 MiB/s, done.\n",
    "Resolving deltas: 100% (389/389), done."
   ]
  },
  {
   "cell_type": "markdown",
   "metadata": {},
   "source": [
    "  > Goto Step 2 above.\n",
    "\n",
    "</p>\n",
    "</details>\n",
    "\n",
    "___"
   ]
  },
  {
   "cell_type": "markdown",
   "metadata": {},
   "source": [
    "## Install Miniconda\n",
    "\n",
    "Follow the instructions in [how_to/install_conda.md](https://github.com/tamucc-comp-bio/how_to/blob/main/install_conda.md) to install MiniConda\n",
    "\n",
    "[Miniconda/Anaconda](https://www.anaconda.com/products/individual) is a free distribution of Python and R that includes preinstalled packages.  When you run `conda`, it is almost invisible but you will use its installations of Python and R rather than those that are already on your system.  While this may seem a bit confusing at first, the point of Anaconda is to make using Python easier.  It does this by allow you to maintain several \"environments\", with each environment being dedicated to a particular task with the dependencies that are unique to that task.  If you only maintain one environment in which you install all packages, they and their dependencies will start to conflict with each other. "
   ]
  },
  {
   "cell_type": "markdown",
   "metadata": {},
   "source": [
    "<details><summary>Don't take it from me, hear what ChatGPT has to say</summary>\n",
    "<p>\n",
    "\n",
    "Anaconda is a popular distribution of Python (and R) that offers several advantages, particularly for students who are new to programming or working in data science and machine learning. Here's why students might want to learn to use Anaconda:\n",
    "\n",
    "1. Simplified Package Management: Anaconda simplifies the process of installing, managing, and updating Python packages. It comes with a package manager called conda, which makes it easy to install both Python packages and their dependencies with a single command. This is especially beneficial for beginners who might find the management of dependencies challenging.\n",
    "\n",
    "2. Pre-installed Packages: Anaconda comes with a large number of pre-installed packages, particularly those used in data science, machine learning, and scientific computing. This saves time and effort in setting up the environment and allows students to start working on projects more quickly.\n",
    "\n",
    "3. Environment Management: With Anaconda, students can create isolated environments for different projects. Each environment can have its own set of packages and Python versions, which is crucial when working on multiple projects with different dependencies. This feature helps in avoiding conflicts between package versions and ensures reproducibility of projects.\n",
    "\n",
    "4. Ease of Use for Data Science Tools: Anaconda is particularly popular in the data science community. It includes packages like NumPy, Pandas, SciPy, Matplotlib, and Jupyter, which are staples in data analysis and visualization. Learning to use these tools within the Anaconda environment can be beneficial for students interested in data science.\n",
    "\n",
    "5. Cross-Platform: Anaconda works across Windows, macOS, and Linux. This cross-platform support is beneficial for students as they can work in consistent environments regardless of their operating system.\n",
    "\n",
    "6. Community and Commercial Support: Anaconda has a large community and commercial support, making it a reliable choice for educational and professional purposes. The community provides numerous resources, tutorials, and forums for learners.\n",
    "\n",
    "7. Integrated Development Environment (IDE) Support: Anaconda Navigator, a graphical user interface included in Anaconda, makes it easier to launch applications and manage conda packages, environments, and channels without using command-line commands.\n",
    "\n",
    "8. Focus on Analytics and Computation: Since Anaconda is tailored for data science and machine learning, it helps students focus more on analytics and computation rather than the intricacies of package management and environment setup.\n",
    "\n",
    "In summary, for students, especially those in fields like data science, biology, engineering, and statistics, learning to use Anaconda can greatly facilitate their learning process by easing the setup and management of the tools they need for their studies and research.\n",
    "\n",
    "</p>\n",
    "</details>\n",
    "\n",
    "___"
   ]
  },
  {
   "cell_type": "markdown",
   "metadata": {},
   "source": [
    "## [I. Lecture Slides](https://github.com/tamucc-comp-bio/fall_2019/blob/master/lectures/Week05_files/Lecture05_BasicProgramming.pdf)"
   ]
  },
  {
   "cell_type": "markdown",
   "metadata": {},
   "source": [
    "## II. Anaconda\n",
    "\n",
    "### What is Anaconda?\n",
    "\n",
    "[Anaconda](https://www.anaconda.com/products/individual) is a free distribution of Python and R that includes preinstalled packages.  When you run `conda`, it is almost invisible but you will use its installations of Python and R rather than those that are already on your system.  While this may seem a bit confusing at first, the point of Anaconda is to make using Python easier."
   ]
  },
  {
   "cell_type": "markdown",
   "metadata": {},
   "source": [
    "___\n",
    "\n",
    "### Activating & Deactivating Conda\n",
    "\n",
    "After you install Conda and restart, confirm that Conda is running by checking for `(base)` before command prompt\n"
   ]
  },
  {
   "cell_type": "code",
   "execution_count": null,
   "metadata": {},
   "outputs": [],
   "source": [
    "%%bash\n",
    "(base) cbird@XPS15:~$"
   ]
  },
  {
   "cell_type": "markdown",
   "metadata": {},
   "source": [
    "If `conda` is not on, you can turn it on:"
   ]
  },
  {
   "cell_type": "code",
   "execution_count": null,
   "metadata": {},
   "outputs": [],
   "source": [
    "%%bash\n",
    "conda activate"
   ]
  },
  {
   "cell_type": "markdown",
   "metadata": {},
   "source": [
    "You can also turn `conda` off:"
   ]
  },
  {
   "cell_type": "code",
   "execution_count": null,
   "metadata": {},
   "outputs": [],
   "source": [
    "%%bash\n",
    "conda deactivate"
   ]
  },
  {
   "cell_type": "markdown",
   "metadata": {},
   "source": [
    "___\n",
    "\n",
    "### One More Time, What is Conda?\n",
    "\n",
    "When `conda` is turned on, your default `python` will be that installed inside of your base `conda` environment and will include all the packages that `miniconda/anaconda` preinstalls. You are not in a \"conda command prompt\", rather, `bash` is altered when `conda` is running.\n",
    "\n",
    "You know that `conda` is running if your have `(base)` or something similar prior to your command prompt:\n"
   ]
  },
  {
   "cell_type": "code",
   "execution_count": null,
   "metadata": {},
   "outputs": [],
   "source": [
    "%%bash\n",
    "(base) cbird@XPS15:~$"
   ]
  },
  {
   "cell_type": "markdown",
   "metadata": {},
   "source": [
    "Make sure `conda` is on for lectures and when completing assignments.\n"
   ]
  },
  {
   "cell_type": "code",
   "execution_count": null,
   "metadata": {},
   "outputs": [],
   "source": [
    "%%bash\n",
    "cbird@XPS15:~$ conda activate\n",
    "(base) cbird@XPS15:~$"
   ]
  },
  {
   "cell_type": "markdown",
   "metadata": {},
   "source": [
    "___\n",
    "\n",
    "## III. Getting Started in Python (Ch 3.3)\n",
    "\n",
    "### How to Run Python\n",
    "\n",
    "We will work in `python3`. There are also legacy apps that require `python2` although `python2` is being phased out."
   ]
  },
  {
   "cell_type": "code",
   "execution_count": null,
   "metadata": {},
   "outputs": [],
   "source": [
    "%%bash\n",
    "(base) cbird@XPS15:~$ python"
   ]
  },
  {
   "cell_type": "code",
   "execution_count": null,
   "metadata": {},
   "outputs": [],
   "source": [
    "Python 3.12.7 | packaged by Anaconda, Inc. | (main, Oct  4 2024, 13:27:36) [GCC 11.2.0] on linux\n",
    "Type \"help\", \"copyright\", \"credits\" or \"license\" for more information.\n",
    ">>>"
   ]
  },
  {
   "cell_type": "markdown",
   "metadata": {},
   "source": [
    "_*Note: you can exit `python3` enviroment with `ctrl+d`*_\n",
    "\n",
    "___"
   ]
  },
  {
   "cell_type": "markdown",
   "metadata": {},
   "source": [
    "### How to Get Help\n",
    "\n",
    "* [ChatGPT](https://chat.openai.com)\n",
    "\n",
    "* [docs.python.org](https://docs.python.org/3/)\n",
    "  \n",
    "* [stackoverflow.com](https://stackoverflow.com/)"
   ]
  },
  {
   "cell_type": "code",
   "execution_count": null,
   "metadata": {},
   "outputs": [],
   "source": [
    "%%python\n",
    "help()\n",
    "help(\"My_COMMAND\")  #pseudocode, replace My_COMMAND with the command you need help with"
   ]
  },
  {
   "cell_type": "markdown",
   "metadata": {},
   "source": [
    "_*Note: `ctrl+d` exits the help environment if you are using python (without jupyter notebook)*_\n",
    "\n",
    "___"
   ]
  },
  {
   "cell_type": "markdown",
   "metadata": {},
   "source": [
    "### Simple Calculations and Basic Data Types\n",
    "\n",
    "Math is much easier to code in `python` than `bash`.  The following code gives examples of some of the `python` data types:\n",
    "\n",
    "* Integers    round numbers\n",
    "\n",
    "* Floats    decimal numbers\n",
    "\n",
    "* Booleans    TRUE, FALSE\n",
    "\n",
    "* Strings    text"
   ]
  },
  {
   "cell_type": "code",
   "execution_count": null,
   "metadata": {},
   "outputs": [],
   "source": [
    "%%python\n",
    "# Math\n",
    "2 + 2\n",
    "2 - 1.5\n",
    "2 * 2\n",
    "3 / 2\n",
    "3 // 2    #integer division\n",
    "3 % 2    #modulo, or remainder of integer division\n",
    "\n",
    "# Equalities\n",
    "2 > 3\n",
    "3 > 2\n",
    "2 == 2\n",
    "2 != 2    # \"not equal\"\n",
    "2 <= 2\n",
    "2 >= 2\n",
    "\n",
    "# Logical operations\n",
    "1 < 2 and 2 < 3    # and\n",
    "1 < 2 or 2 > 3    # or\n",
    "not (1 < 2 and 2 > 3)    # not\n",
    "\n",
    "# Print text string\n",
    "\"my string\""
   ]
  },
  {
   "cell_type": "code",
   "execution_count": null,
   "metadata": {},
   "outputs": [],
   "source": [
    "%%python\n",
    "\"\"\"The tree's height is 6'2\".\"\"\""
   ]
  },
  {
   "cell_type": "markdown",
   "metadata": {},
   "source": [
    "Like `R`, `python` code obeys the standard order of mathematical operations, but using parentheses makes code more readable\n",
    "\n",
    "*_P_*arentheses before\n",
    "\n",
    "*_E_*xponents before\n",
    "\n",
    "*_M_*ulitpy or \n",
    "\n",
    "*_D_*ivide before\n",
    "\n",
    "*_A_*ddition or\n",
    "\n",
    "*_S_*ubtraction"
   ]
  },
  {
   "cell_type": "code",
   "execution_count": null,
   "metadata": {},
   "outputs": [],
   "source": [
    "%%python\n",
    "2 * 3 ** 3\n",
    "2 * (3 ** 3)\n",
    "(2 * 3) ** 3"
   ]
  },
  {
   "cell_type": "markdown",
   "metadata": {},
   "source": [
    "___\n",
    "\n",
    "### Variable Assignment\n",
    "\n",
    "Variable assignment is similar to `R`"
   ]
  },
  {
   "cell_type": "code",
   "execution_count": null,
   "metadata": {},
   "outputs": [],
   "source": [
    "%%python\n",
    "x = 5\n",
    "x\n",
    "# In Jupyter, you can use %who to display user-defined variables\n",
    "vars()"
   ]
  },
  {
   "cell_type": "markdown",
   "metadata": {},
   "source": [
    "*_Note: the output of `vars()` is in pairs.  Each item in a pair is delimited by `:`.  Each pair is delimited by `,`.*"
   ]
  },
  {
   "cell_type": "markdown",
   "metadata": {},
   "source": [
    "Math with variables"
   ]
  },
  {
   "cell_type": "code",
   "execution_count": null,
   "metadata": {},
   "outputs": [],
   "source": [
    "%%python\n",
    "x + 3\n",
    "\n",
    "y = 8\n",
    "x + y"
   ]
  },
  {
   "cell_type": "markdown",
   "metadata": {},
   "source": [
    "Variables can also store text, and like `R`, you must use quotes in `python3`. Further, mathematical operators can be used to paste text together, but variable data types must be the same"
   ]
  },
  {
   "cell_type": "code",
   "execution_count": null,
   "metadata": {},
   "outputs": [],
   "source": [
    "%%python\n",
    "x = \"The cell grew\"\n",
    "x + \" and is now larger\""
   ]
  },
  {
   "cell_type": "markdown",
   "metadata": {},
   "source": [
    "You can not add a number and text together, unless the number is stored as a string or converted to a string"
   ]
  },
  {
   "cell_type": "code",
   "execution_count": null,
   "metadata": {},
   "outputs": [],
   "source": [
    "%%python\n",
    "# This will raise an error if executed\n",
    "# x + y\n",
    "\n",
    "y = \" 8 nm\"\n",
    "x + y\n",
    "\n",
    "y = 8\n",
    "x + \" \" + str(y) + \" nm\""
   ]
  },
  {
   "cell_type": "markdown",
   "metadata": {},
   "source": [
    "As you can see, `str()` changes the datatype to string.  Obviously, datatype is important in `python3`"
   ]
  },
  {
   "cell_type": "code",
   "execution_count": null,
   "metadata": {},
   "outputs": [],
   "source": [
    "%%python\n",
    "z = \"88\"\n",
    "type(z)\n",
    "\n",
    "y + int(z)    #change z datatype to integer"
   ]
  },
  {
   "cell_type": "markdown",
   "metadata": {},
   "source": [
    "___\n",
    "\n",
    "### Built-in Functions (a.k.a. Commands)\n",
    "\n",
    "In `python3`, like `R`, each builtin function name is followed by parentheses that encapsulate the arguments passed to the function\n"
   ]
  },
  {
   "cell_type": "code",
   "execution_count": null,
   "metadata": {},
   "outputs": [],
   "source": [
    "%%python\n",
    "s = \"a long string\"\n",
    "len(s)          # length, number of characters\n",
    "abs(-3.14)        # absolute value\n",
    "pow(3, 6)        # power, 3^6\n",
    "print(s)        # print variable to screen\n",
    "round(3.1415926535, 3)  # round to 3 decimals\n",
    "help(round)        # get help on round function"
   ]
  },
  {
   "cell_type": "markdown",
   "metadata": {},
   "source": [
    "___\n",
    "\n",
    "### Strings\n",
    "\n",
    "Python has many useful functions for string manipulation.  We will start by making a string and counting the number of characters using `len()`"
   ]
  },
  {
   "cell_type": "code",
   "execution_count": null,
   "metadata": {},
   "outputs": [],
   "source": [
    "%%python\n",
    "astring = \"ATGCATG\"\n",
    "len(astring)"
   ]
  },
  {
   "cell_type": "markdown",
   "metadata": {},
   "source": [
    "Unlike `R`, `python3` is \"*object-oriented*\".  This means that each *object*, such as a *string variable*, has a set of functions specific to that *object*, called *methods*."
   ]
  },
  {
   "cell_type": "code",
   "execution_count": null,
   "metadata": {},
   "outputs": [],
   "source": [
    "%%python\n",
    "# Press tab twice after the period to list methods\n",
    "astring."
   ]
  },
  {
   "cell_type": "markdown",
   "metadata": {},
   "source": [
    "To learn more about a method, use `help`"
   ]
  },
  {
   "cell_type": "code",
   "execution_count": null,
   "metadata": {},
   "outputs": [],
   "source": [
    "%%python\n",
    "help(astring.find)"
   ]
  },
  {
   "cell_type": "markdown",
   "metadata": {},
   "source": [
    "*_Note: `q` will exit you from the help screen._*"
   ]
  },
  {
   "cell_type": "markdown",
   "metadata": {},
   "source": [
    "Here are some examples of the string-specific methods"
   ]
  },
  {
   "cell_type": "code",
   "execution_count": null,
   "metadata": {},
   "outputs": [],
   "source": [
    "%%python\n",
    "astring.replace(\"T\", \"U\")\n",
    "\n",
    "astring.find(\"C\")    # first position of C\n",
    "\n",
    "astring.count(\"G\")\n",
    "\n",
    "newstring = \" Mus musculus \"\n",
    "\n",
    "# split string with default whitespace\n",
    "newstring.split()\n",
    "\n",
    "# split string on 'u' (similar to using tr in bash)\n",
    "newstring.split(\"u\")\n",
    "\n",
    "# remove leading and trailing whitespace\n",
    "newstring.strip()"
   ]
  },
  {
   "cell_type": "markdown",
   "metadata": {},
   "source": [
    "*_Note: two methods can be used in succession `astring.upper().find(\"C\")`_*"
   ]
  },
  {
   "cell_type": "code",
   "execution_count": null,
   "metadata": {},
   "outputs": [],
   "source": [
    "%%python\n",
    "\"atgc\".upper()\n",
    "\"TGCA\".lower()"
   ]
  },
  {
   "cell_type": "code",
   "execution_count": null,
   "metadata": {},
   "outputs": [],
   "source": [
    "%%python\ngenus = \"Rattus\"\n",
    "species = \"norvegicus\"\n",
    "genus + \" \" + species\n",
    "\n",
    "human = [\"Homo\", \"sapiens\"]\n",
    "\" \".join(human)\n",
    "\n",
    "\"->\".join([\"one\", \"leads\", \"2\", \"the\", \"other\"])"
   ]
  },
  {
   "cell_type": "code",
   "execution_count": null,
   "metadata": {},
   "outputs": [],
   "source": [
    "%%python\n",
    "s = \"ATGC\"\n",
    "\n",
    "# call built-in function print\n",
    "print(s)\n",
    "\n",
    "# there is no print method, so this will fail\n",
    "s.print()"
   ]
  },
  {
   "cell_type": "markdown",
   "metadata": {},
   "source": [
    "---\n",
    "\n",
    "#### [Mind Expander 3.1](https://forms.office.com/Pages/ResponsePage.aspx?id=8frLNKZngUepylFOslULZlFZdbyVx8RLiPt1GobhHnlUNllCM0VQNk1ZVDVXWUwzVlVVWVQzSEIxNy4u)\n",
    "\n",
    "[Mind Expander 3.1 (Outside TAMUCC)](https://forms.office.com/r/MCUc0YCr3b)\n",
    "\n",
    "---"
   ]
  },
  {
   "cell_type": "markdown",
   "metadata": {},
   "source": [
    "## IV. Python [Data Structures](https://docs.python.org/3/tutorial/datastructures.html) (ch 3.4)\n",
    "\n",
    "Python provides built-in [data structures](https://docs.python.org/3/tutorial/datastructures.html) that are special types of objects that store data in an organized manner. It is important to learn to choose the right data structure for a particular task. \n",
    "\n",
    "* _Lists_ contain ordered sequences of values, termed *elements*\n",
    "\n",
    "* _Dictionaries_ contain `key:value` pairs \n",
    "\n",
    "* _Tuples_ are lists where the elements cannot be changed or reordered\n",
    "\n",
    "* _Sets_ are collections of distinct objects\n",
    "\n",
    "___"
   ]
  },
  {
   "cell_type": "markdown",
   "metadata": {},
   "source": [
    "### [Lists](https://docs.python.org/3/tutorial/datastructures.html#more-on-lists)\n",
    "\n",
    "Defining lists"
   ]
  },
  {
   "cell_type": "code",
   "execution_count": null,
   "metadata": {},
   "outputs": [],
   "source": [
    "%%python\n",
    "# create an empty list \n",
    "new_list = []\n",
    "\n",
    "# create a list with elements, note that different data types can be used\n",
    "my_list = [3, 2.44, \"green\", True]\n",
    "\n",
    "# the `list` function can be used to create a list\n",
    "a = list(\"0123456789\")\n",
    "print(a)"
   ]
  },
  {
   "cell_type": "markdown",
   "metadata": {},
   "source": [
    "Each element in a list is indexed, [starting at 0](http://python-history.blogspot.com/2013/10/why-python-uses-0-based-indexing.html), and elements can be retrieved by their index."
   ]
  },
  {
   "cell_type": "code",
   "execution_count": null,
   "metadata": {},
   "outputs": [],
   "source": [
    "%%python\n",
    "# retrieve second value in `my_list`\n",
    "print(my_list[1])\n",
    "\n",
    "# retrieve first value in `my_list`\n",
    "print(my_list[0])\n",
    "\n",
    "# you will trigger an error if there is no element at the specified index\n",
    "# print(my_list[4])  # Uncommenting this will raise an IndexError"
   ]
  },
  {
   "cell_type": "markdown",
   "metadata": {},
   "source": [
    "You can also set values of particular elements using the index"
   ]
  },
  {
   "cell_type": "code",
   "execution_count": null,
   "metadata": {},
   "outputs": [],
   "source": [
    "%%python\n",
    "# change first element of `my_list` to \"blue\"\n",
    "my_list[0] = \"blue\"\n",
    "print(my_list)\n",
    "\n",
    "# retrieve elements 0 to 1, not including 1\n",
    "print(my_list[0:1])\n",
    "\n",
    "# retrieve elements 1 to 3, not including 3\n",
    "print(my_list[1:3])\n",
    "\n",
    "# retrieve all elements\n",
    "print(my_list[:])\n",
    "\n",
    "# retrieve all elements before 3\n",
    "print(my_list[:3])\n",
    "\n",
    "# retrieve all elements from three to the end of the list\n",
    "print(my_list[3:])\n",
    "\n",
    "# retrieve the 2nd to last element\n",
    "print(my_list[-2])"
   ]
  },
  {
   "cell_type": "markdown",
   "metadata": {},
   "source": [
    "The most useful methods for lists are:"
   ]
  },
  {
   "cell_type": "code",
   "execution_count": null,
   "metadata": {},
   "outputs": [],
   "source": [
    "%%python\n",
    "# `append` an element to the end of a list\n",
    "my_list.append(25)\n",
    "print(my_list)\n",
    "\n",
    "# `copy` the list to a new list\n",
    "new_list = my_list.copy()\n",
    "print(new_list)\n",
    "\n",
    "# `clear` all elements from a list\n",
    "my_list.clear()\n",
    "print(my_list)\n",
    "\n",
    "# `count` occurrences of a specified element in the list\n",
    "seq = list(\"TKAAVVNFT\")\n",
    "print(seq.count(\"V\"))\n",
    "\n",
    "# `index`, return the index of the first matching element\n",
    "print(seq.index(\"V\"))\n",
    "\n",
    "# `pop` remove last element of a list and return it\n",
    "seq2 = seq.pop()\n",
    "print(seq)\n",
    "print(seq2)\n",
    "\n",
    "# `sort` the elements in the list, best for numbers or characters\n",
    "a = [1, 5, 2, 42, 14, 132]\n",
    "a.sort()\n",
    "print(a)\n",
    "\n",
    "# `reverse` the order of the elements in the list\n",
    "a.reverse()\n",
    "print(a)\n",
    "\n",
    "# `del` an element or series of elements\n",
    "del(a[2:3])\n",
    "print(a)"
   ]
  },
  {
   "cell_type": "markdown",
   "metadata": {},
   "source": [
    "___\n",
    "\n",
    "### [Dictionaries](https://docs.python.org/3/tutorial/datastructures.html#dictionaries)\n",
    "\n",
    "In an English dictionary, *definitions* are indexed by *words*.\n",
    "\n",
    "In a  Python dictionary, *elements* are indexed by *keys*.\n",
    "\n",
    "Syntax: `key:value, key2:value, key3:value ...`"
   ]
  },
  {
   "cell_type": "code",
   "execution_count": null,
   "metadata": {},
   "outputs": [],
   "source": [
    "%%python\n",
    "# Make an empty dictionary\n",
    "my_dict = {}\n",
    "\n",
    "# like lists, dictionaries can contain several datatypes, not just 1\n",
    "my_dict = {\"a\": \"test\", \"b\": 3.14, \"c\": [1, 2, 3, 4]}\n",
    "print(my_dict)\n",
    "\n",
    "# the order of the key:values do not matter in dictionaries\n",
    "GenomeSize = {\"Homo sapiens\": 3200.0, \"Escherichia coli\": 4.6, \"Arabidopsis thaliana\": 157.0}\n",
    "print(GenomeSize)\n",
    "\n",
    "# call a specific key\n",
    "print(GenomeSize[\"Arabidopsis thaliana\"])\n",
    "\n",
    "# add a new value using a novel key\n",
    "GenomeSize[\"Saccharomyces cerevisiae\"] = 12.1\n",
    "print(GenomeSize)\n",
    "\n",
    "# nothing happens if the key:value exists\n",
    "GenomeSize[\"Escherichia coli\"] = 4.6\n",
    "print(GenomeSize)\n",
    "\n",
    "# the value is replaced if the key exists and the value is different\n",
    "GenomeSize[\"Homo sapiens\"] = 3201.1\n",
    "print(GenomeSize)"
   ]
  },
  {
   "cell_type": "markdown",
   "metadata": {},
   "source": [
    "___\n",
    "\n",
    "### [Tuples](https://docs.python.org/3/tutorial/datastructures.html#tuples-and-sequences)\n",
    "\n",
    "Tuples are like lists, but cannot be changed (write protection) and are faster."
   ]
  },
  {
   "cell_type": "code",
   "execution_count": null,
   "metadata": {},
   "outputs": [],
   "source": [
    "%%python\n",
    "# define a tuple\n",
    "my_tuple = (1, \"two\", 3)\n",
    "\n",
    "# return elements by indexing or slicing\n",
    "print(my_tuple[0])\n",
    "\n",
    "# tuples cannot be changed\n",
    "# my_tuple[0] = 33  # This will raise an error"
   ]
  },
  {
   "cell_type": "markdown",
   "metadata": {},
   "source": [
    "There are only 2 methods for tuples"
   ]
  },
  {
   "cell_type": "code",
   "execution_count": null,
   "metadata": {},
   "outputs": [],
   "source": [
    "%%python\n",
    "tt = (1, 1, 1, 1, 2, 2, 4)\n",
    "print(tt.count(1))\n",
    "print(tt.index(2))"
   ]
  },
  {
   "cell_type": "markdown",
   "metadata": {},
   "source": [
    "Tuples can also be used as keys in a dictionary"
   ]
  },
  {
   "cell_type": "code",
   "execution_count": null,
   "metadata": {},
   "outputs": [],
   "source": [
    "%%python\n",
    "D3 = {(\"trial\", 62): 4829}\n",
    "print(D3)"
   ]
  },
  {
   "cell_type": "markdown",
   "metadata": {},
   "source": [
    "___\n",
    "\n",
    "### [Sets](https://docs.python.org/3/tutorial/datastructures.html#sets)\n",
    "\n",
    "Sets are lists without duplicated entries and have special operators.\n",
    "\n",
    "* Union - values in set 1 *or* set 2\n",
    "\n",
    "* Intersection - values in set 1 *and* set 2\n",
    "\n",
    "* Difference - values unshared between set 1 and 2"
   ]
  },
  {
   "cell_type": "code",
   "execution_count": null,
   "metadata": {},
   "outputs": [],
   "source": [
    "%%python\n",
    "# create a list\n",
    "a = [5, 6, 7, 7, 7, 8, 9, 9]\n",
    "\n",
    "# make a set from the list\n",
    "b = set(a)\n",
    "print(b)\n",
    "\n",
    "# intersection \n",
    "c = {3, 4, 5, 6}\n",
    "print(b & c)\n",
    "\n",
    "# union\n",
    "print(b | c)\n",
    "\n",
    "# difference\n",
    "print(b ^ c)"
   ]
  },
  {
   "cell_type": "markdown",
   "metadata": {},
   "source": [
    "The union, intersection, and difference operators also exist as *methods*. You can also test whether a set is a [subset](https://en.wikipedia.org/wiki/Subset) or a [superset](https://en.wikipedia.org/wiki/Subset)."
   ]
  },
  {
   "cell_type": "code",
   "execution_count": null,
   "metadata": {},
   "outputs": [],
   "source": [
    "%%python\n",
    "s1 = {1, 2, 3, 4}\n",
    "s2 = {4, 5, 6}\n",
    "\n",
    "# intersection\n",
    "print(s1.intersection(s2))\n",
    "\n",
    "# union\n",
    "print(s1.union(s2))\n",
    "\n",
    "# symmetric difference\n",
    "print(s1.symmetric_difference(s2))\n",
    "\n",
    "# difference\n",
    "print(s1.difference(s2))\n",
    "\n",
    "# subset\n",
    "print(s1.issubset(s2))\n",
    "\n",
    "# superset\n",
    "print(s1.issuperset(s2))\n",
    "\n",
    "print(s1.issubset(s1.union(s2)))"
   ]
  },
  {
   "cell_type": "markdown",
   "metadata": {},
   "source": [
    "*_Note that calling `a = {}` creates an empty dictionary, not an empty set. `a = ([])` initializes an empty set._*"
   ]
  },
  {
   "cell_type": "markdown",
   "metadata": {},
   "source": [
    "___\n",
    "\n",
    "### Summary of Data Structures"
   ]
  },
  {
   "cell_type": "code",
   "execution_count": null,
   "metadata": {},
   "outputs": [],
   "source": [
    "%%python\n",
    "print(type((1, 2)))  # round brackets -> tuple\n",
    "print(type([1, 2]))  # square brackets -> list\n",
    "print(type({1, 2}))  # curly brackets, seq of vals -> set\n",
    "print(type({1: \"a\", 2: \"b\"}))  # curly brackets, key:value pairs -> dictionary\n",
    "\n",
    "one = (1, 2, \"tuple\")\n",
    "two = [3, 4, \"list\"]\n",
    "three = {5: [\"value1\"], 6: [\"value2\"]}   # a dictionary"
   ]
  },
  {
   "cell_type": "markdown",
   "metadata": {},
   "source": [
    "The next level: Lists can also contain other lists, tuples, dictionaries.  If you think about it, a table is a list of lists."
   ]
  },
  {
   "cell_type": "code",
   "execution_count": null,
   "metadata": {},
   "outputs": [],
   "source": [
    "%%python\n",
    "container = [one, two, three]\n",
    "print(container)\n",
    "\n",
    "# add a value to the list within the dictionary within the list\n",
    "container[2][5].append(\"value3\")\n",
    "print(container)"
   ]
  },
  {
   "cell_type": "markdown",
   "metadata": {},
   "source": [
    "___\n",
    "\n",
    "### [Mind Expander 3.2](https://forms.office.com/Pages/ResponsePage.aspx?id=8frLNKZngUepylFOslULZlFZdbyVx8RLiPt1GobhHnlUMzdVVkQwTlRQMENSVTQ5S0dUT0c1NFgwRi4u)\n",
    "\n",
    "* [Mind Expander 3.2 (Outside TAMUCC)](https://forms.office.com/r/ufyV1Xtraf)"
   ]
  },
  {
   "cell_type": "markdown",
   "metadata": {},
   "source": [
    "---\n",
    "\n",
    "# Assignment\n",
    "\n",
    "[Consult the Schedule](../README.md)"
   ]
  }
 ],
 "metadata": {
  "kernelspec": {
   "display_name": "Python 3",
   "language": "python",
   "name": "python3"
  },
  "language_info": {
   "name": "python",
   "version": "3.x"
  }
 },
 "nbformat": 4,
 "nbformat_minor": 2
}
